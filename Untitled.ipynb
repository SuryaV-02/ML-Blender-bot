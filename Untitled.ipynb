{
 "cells": [
  {
   "cell_type": "markdown",
   "id": "e43588f9",
   "metadata": {},
   "source": [
    "## Installing Dependencies"
   ]
  },
  {
   "cell_type": "code",
   "execution_count": null,
   "id": "993ca601",
   "metadata": {},
   "outputs": [],
   "source": [
    "!pip3 install torch==1.10.2+cu113 torchvision==0.11.3+cu113 torchaudio===0.10.2+cu113 -f https://download.pytorch.org/whl/cu113/torch_stable.html"
   ]
  },
  {
   "cell_type": "code",
   "execution_count": null,
   "id": "6e388c39",
   "metadata": {},
   "outputs": [],
   "source": [
    "!pip install transformers"
   ]
  },
  {
   "cell_type": "markdown",
   "id": "faefcd80",
   "metadata": {},
   "source": [
    "## Importing dependencies"
   ]
  },
  {
   "cell_type": "code",
   "execution_count": null,
   "id": "37fb2c36",
   "metadata": {},
   "outputs": [],
   "source": [
    "from transformers import BlenderbotTokenizer, BlenderbotForConditionalGeneration"
   ]
  },
  {
   "cell_type": "code",
   "execution_count": null,
   "id": "25f9dd22",
   "metadata": {},
   "outputs": [],
   "source": [
    "# Downloading and setting up the model and tokenizer\n",
    "tokenizer = BlenderbotTokenizer.from_pretrained(\"facebook/blenderbot-400M-distill\")\n",
    "model = BlenderbotForConditionalGeneration.from_pretrained('facebook/blenderbot-400M-distill')"
   ]
  },
  {
   "cell_type": "markdown",
   "id": "12a893ca",
   "metadata": {},
   "source": [
    "## Chatting with the model"
   ]
  },
  {
   "cell_type": "code",
   "execution_count": null,
   "id": "063ccfe9",
   "metadata": {},
   "outputs": [],
   "source": [
    "# utterance = 'DO you like noodels?'"
   ]
  },
  {
   "cell_type": "code",
   "execution_count": null,
   "id": "b8cd79b8",
   "metadata": {},
   "outputs": [],
   "source": [
    "# input_tokens = tokenizer(utterance, return_tensors = 'pt')\n",
    "# input_tokens"
   ]
  },
  {
   "cell_type": "code",
   "execution_count": null,
   "id": "a63f9667",
   "metadata": {},
   "outputs": [],
   "source": [
    "# return_result = model.generate(**input_tokens)\n",
    "# return_result"
   ]
  },
  {
   "cell_type": "code",
   "execution_count": null,
   "id": "813ad015",
   "metadata": {},
   "outputs": [],
   "source": [
    "# tokenizer.decode(return_result[0])[4:-4]"
   ]
  },
  {
   "cell_type": "code",
   "execution_count": null,
   "id": "bb525071",
   "metadata": {},
   "outputs": [],
   "source": [
    "# tokenizer.decode(input_tokens['input_ids'][0])"
   ]
  },
  {
   "cell_type": "code",
   "execution_count": null,
   "id": "86ebe96f",
   "metadata": {},
   "outputs": [],
   "source": [
    "# query = \"Ohh, that's good\"\n",
    "# query, reply = send_chat_to_model(query)\n",
    "# reply"
   ]
  },
  {
   "cell_type": "code",
   "execution_count": 48,
   "id": "3000fe91",
   "metadata": {},
   "outputs": [],
   "source": [
    "def send_chat_to_model(query = 's'):\n",
    "    input_tokens = tokenizer(query, return_tensors = 'pt')\n",
    "    return_tokens = model.generate(**input_tokens)\n",
    "    query = tokenizer.decode(input_tokens['input_ids'][0])\n",
    "    reply = tokenizer.decode(return_tokens[0])[4:-4]\n",
    "    return (query, reply)"
   ]
  },
  {
   "cell_type": "code",
   "execution_count": null,
   "id": "75bea5fe",
   "metadata": {},
   "outputs": [
    {
     "name": "stdout",
     "output_type": "stream",
     "text": [
      ">>> Hello there\n",
      ">>> Hi, how are you? I just got back from walking my dog, how about you?\n",
      ">>> Yeah, I am heading for my dinner\n",
      ">>> What are you going to have for dinner? I'm making spaghetti and meatballs.\n",
      ">>> Meatballss!!!\n"
     ]
    }
   ],
   "source": [
    "query = ''\n",
    "while(query!='END'):\n",
    "    query = input(\">>> \")\n",
    "    request, response = send_chat_to_model(query)\n",
    "    print('>>> ' + response)"
   ]
  },
  {
   "cell_type": "code",
   "execution_count": 35,
   "id": "c206fb13",
   "metadata": {},
   "outputs": [
    {
     "name": "stdout",
     "output_type": "stream",
     "text": [
      "Requirement already satisfied: pypiwin32 in d:\\anaconda\\lib\\site-packages (223)\n",
      "Requirement already satisfied: pywin32>=223 in d:\\anaconda\\lib\\site-packages (from pypiwin32) (227)\n"
     ]
    }
   ],
   "source": [
    "!pip install pyttsx3\n",
    "!pip install pypiwin32"
   ]
  },
  {
   "cell_type": "code",
   "execution_count": 37,
   "id": "cd5a33c0",
   "metadata": {},
   "outputs": [],
   "source": [
    "import pyttsx3\n",
    "converter = pyttsx3.init()\n"
   ]
  },
  {
   "cell_type": "code",
   "execution_count": 38,
   "id": "c79bad15",
   "metadata": {
    "collapsed": true
   },
   "outputs": [
    {
     "name": "stdout",
     "output_type": "stream",
     "text": [
      "Voice:\n",
      "ID: HKEY_LOCAL_MACHINE\\SOFTWARE\\Microsoft\\Speech\\Voices\\Tokens\\TTS_MS_EN-US_DAVID_11.0\n",
      "Name: Microsoft David Desktop - English (United States)\n",
      "Age: None\n",
      "Gender: None\n",
      "Languages Known: []\n",
      "Voice:\n",
      "ID: HKEY_LOCAL_MACHINE\\SOFTWARE\\Microsoft\\Speech\\Voices\\Tokens\\TTS_MS_EN-GB_HAZEL_11.0\n",
      "Name: Microsoft Hazel Desktop - English (Great Britain)\n",
      "Age: None\n",
      "Gender: None\n",
      "Languages Known: []\n",
      "Voice:\n",
      "ID: HKEY_LOCAL_MACHINE\\SOFTWARE\\Microsoft\\Speech\\Voices\\Tokens\\TTS_MS_EN-US_ZIRA_11.0\n",
      "Name: Microsoft Zira Desktop - English (United States)\n",
      "Age: None\n",
      "Gender: None\n",
      "Languages Known: []\n"
     ]
    }
   ],
   "source": [
    "voices = converter.getProperty('voices')\n",
    "  \n",
    "for voice in voices:\n",
    "    # to get the info. about various voices in our PC \n",
    "    print(\"Voice:\")\n",
    "    print(\"ID: %s\" %voice.id)\n",
    "    print(\"Name: %s\" %voice.name)\n",
    "    print(\"Age: %s\" %voice.age)\n",
    "    print(\"Gender: %s\" %voice.gender)\n",
    "    print(\"Languages Known: %s\" %voice.languages)"
   ]
  },
  {
   "cell_type": "code",
   "execution_count": 46,
   "id": "4bcf580d",
   "metadata": {},
   "outputs": [],
   "source": [
    "\n",
    "voice_id = \"HKEY_LOCAL_MACHINE\\SOFTWARE\\Microsoft\\Speech\\Voices\\Tokens\\TTS_MS_EN-US_ZIRA_11.0\"\n",
    "  \n",
    "# Use female voice\n",
    "converter.setProperty('voice', voice_id)\n",
    "converter.say(\"Hmm, that's good!\")\n",
    "converter.setProperty('rate',120)\n",
    "converter.setProperty('volume',0.4)\n",
    "converter.runAndWait()"
   ]
  }
 ],
 "metadata": {
  "kernelspec": {
   "display_name": "Python 3",
   "language": "python",
   "name": "python3"
  },
  "language_info": {
   "codemirror_mode": {
    "name": "ipython",
    "version": 3
   },
   "file_extension": ".py",
   "mimetype": "text/x-python",
   "name": "python",
   "nbconvert_exporter": "python",
   "pygments_lexer": "ipython3",
   "version": "3.8.8"
  }
 },
 "nbformat": 4,
 "nbformat_minor": 5
}
