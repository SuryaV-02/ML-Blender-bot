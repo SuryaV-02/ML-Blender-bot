{
 "cells": [
  {
   "cell_type": "markdown",
   "id": "ad3bcadc",
   "metadata": {},
   "source": [
    "## Installing Dependencies"
   ]
  },
  {
   "cell_type": "code",
   "execution_count": null,
   "id": "ef38e241",
   "metadata": {},
   "outputs": [],
   "source": [
    "!pip3 install torch==1.10.2+cu113 torchvision==0.11.3+cu113 torchaudio===0.10.2+cu113 -f https://download.pytorch.org/whl/cu113/torch_stable.html"
   ]
  },
  {
   "cell_type": "code",
   "execution_count": null,
   "id": "6adc5359",
   "metadata": {},
   "outputs": [],
   "source": [
    "!pip install transformers"
   ]
  },
  {
   "cell_type": "markdown",
   "id": "3ce4b372",
   "metadata": {},
   "source": [
    "## Importing dependencies"
   ]
  },
  {
   "cell_type": "code",
   "execution_count": 1,
   "id": "a6238830",
   "metadata": {},
   "outputs": [],
   "source": [
    "from transformers import BlenderbotTokenizer, BlenderbotForConditionalGeneration"
   ]
  },
  {
   "cell_type": "code",
   "execution_count": null,
   "id": "6b6806d6",
   "metadata": {},
   "outputs": [],
   "source": [
    "# Downloading and setting up the model and tokenizer\n",
    "tokenizer = BlenderbotTokenizer.from_pretrained(\"facebook/blenderbot-400M-distill\")\n",
    "model = BlenderbotForConditionalGeneration.from_pretrained('facebook/blenderbot-400M-distill')"
   ]
  },
  {
   "cell_type": "markdown",
   "id": "09aa0452",
   "metadata": {},
   "source": [
    "## Chatting with the model\n",
    "We basically split the input query string as a list of individual strings, with each has it's own integer mapping called the tokens that is encoded to the model and the result response string in the form of tokens is decoded from the model"
   ]
  },
  {
   "cell_type": "code",
   "execution_count": null,
   "id": "8ad82a54",
   "metadata": {},
   "outputs": [],
   "source": [
    "# utterance = 'DO you like noodels?'"
   ]
  },
  {
   "cell_type": "code",
   "execution_count": null,
   "id": "c282ddbf",
   "metadata": {},
   "outputs": [],
   "source": [
    "# input_tokens = tokenizer(utterance, return_tensors = 'pt')\n",
    "# input_tokens"
   ]
  },
  {
   "cell_type": "code",
   "execution_count": null,
   "id": "33c13ef4",
   "metadata": {},
   "outputs": [],
   "source": [
    "# return_result = model.generate(**input_tokens)\n",
    "# return_result"
   ]
  },
  {
   "cell_type": "code",
   "execution_count": null,
   "id": "566f643b",
   "metadata": {},
   "outputs": [],
   "source": [
    "# tokenizer.decode(return_result[0])[4:-4]"
   ]
  },
  {
   "cell_type": "code",
   "execution_count": null,
   "id": "856990d8",
   "metadata": {},
   "outputs": [],
   "source": [
    "# tokenizer.decode(input_tokens['input_ids'][0])"
   ]
  },
  {
   "cell_type": "code",
   "execution_count": null,
   "id": "72ea8048",
   "metadata": {},
   "outputs": [],
   "source": [
    "# query = \"Ohh, that's good\"\n",
    "# query, reply = send_chat_to_model(query)\n",
    "# reply"
   ]
  },
  {
   "cell_type": "code",
   "execution_count": 48,
   "id": "2a9901e9",
   "metadata": {},
   "outputs": [],
   "source": [
    "def send_chat_to_model(query = 's'):\n",
    "    input_tokens = tokenizer(query, return_tensors = 'pt')\n",
    "    return_tokens = model.generate(**input_tokens)\n",
    "    query = tokenizer.decode(input_tokens['input_ids'][0])\n",
    "    reply = tokenizer.decode(return_tokens[0])[4:-4]\n",
    "    return (query, reply)"
   ]
  },
  {
   "cell_type": "code",
   "execution_count": null,
   "id": "4fcd8bc5",
   "metadata": {},
   "outputs": [
    {
     "name": "stdout",
     "output_type": "stream",
     "text": [
      ">>> Hello there\n",
      ">>> Hi, how are you? I just got back from walking my dog, how about you?\n",
      ">>> Yeah, I am heading for my dinner\n",
      ">>> What are you going to have for dinner? I'm making spaghetti and meatballs.\n",
      ">>> Meatballss!!!\n",
      ">>> Have you ever had meatballs? It's a dish of ground meat mixed with other ingredients and baked in the oven.\n"
     ]
    }
   ],
   "source": [
    "query = ''\n",
    "while(query!='END'):\n",
    "    query = input(\">>> \")\n",
    "    request, response = send_chat_to_model(query)\n",
    "    print('>>> ' + response)"
   ]
  },
  {
   "cell_type": "code",
   "execution_count": 35,
   "id": "ab441682",
   "metadata": {},
   "outputs": [
    {
     "name": "stdout",
     "output_type": "stream",
     "text": [
      "Requirement already satisfied: pypiwin32 in d:\\anaconda\\lib\\site-packages (223)\n",
      "Requirement already satisfied: pywin32>=223 in d:\\anaconda\\lib\\site-packages (from pypiwin32) (227)\n"
     ]
    }
   ],
   "source": [
    "!pip install pyttsx3\n",
    "!pip install pypiwin32"
   ]
  },
  {
   "cell_type": "code",
   "execution_count": 37,
   "id": "9bd2d038",
   "metadata": {},
   "outputs": [],
   "source": [
    "import pyttsx3\n",
    "converter = pyttsx3.init()\n"
   ]
  },
  {
   "cell_type": "code",
   "execution_count": 38,
   "id": "037fbcfe",
   "metadata": {
    "collapsed": true
   },
   "outputs": [
    {
     "name": "stdout",
     "output_type": "stream",
     "text": [
      "Voice:\n",
      "ID: HKEY_LOCAL_MACHINE\\SOFTWARE\\Microsoft\\Speech\\Voices\\Tokens\\TTS_MS_EN-US_DAVID_11.0\n",
      "Name: Microsoft David Desktop - English (United States)\n",
      "Age: None\n",
      "Gender: None\n",
      "Languages Known: []\n",
      "Voice:\n",
      "ID: HKEY_LOCAL_MACHINE\\SOFTWARE\\Microsoft\\Speech\\Voices\\Tokens\\TTS_MS_EN-GB_HAZEL_11.0\n",
      "Name: Microsoft Hazel Desktop - English (Great Britain)\n",
      "Age: None\n",
      "Gender: None\n",
      "Languages Known: []\n",
      "Voice:\n",
      "ID: HKEY_LOCAL_MACHINE\\SOFTWARE\\Microsoft\\Speech\\Voices\\Tokens\\TTS_MS_EN-US_ZIRA_11.0\n",
      "Name: Microsoft Zira Desktop - English (United States)\n",
      "Age: None\n",
      "Gender: None\n",
      "Languages Known: []\n"
     ]
    }
   ],
   "source": [
    "voices = converter.getProperty('voices')\n",
    "  \n",
    "for voice in voices:\n",
    "    # to get the info. about various voices in our PC \n",
    "    print(\"Voice:\")\n",
    "    print(\"ID: %s\" %voice.id)\n",
    "    print(\"Name: %s\" %voice.name)\n",
    "    print(\"Age: %s\" %voice.age)\n",
    "    print(\"Gender: %s\" %voice.gender)\n",
    "    print(\"Languages Known: %s\" %voice.languages)"
   ]
  },
  {
   "cell_type": "code",
   "execution_count": 46,
   "id": "3b57bb19",
   "metadata": {},
   "outputs": [],
   "source": [
    "\n",
    "voice_id = \"HKEY_LOCAL_MACHINE\\SOFTWARE\\Microsoft\\Speech\\Voices\\Tokens\\TTS_MS_EN-US_ZIRA_11.0\"\n",
    "  \n",
    "# Use female voice\n",
    "converter.setProperty('voice', voice_id)\n",
    "converter.say(\"Hmm, that's good!\")\n",
    "converter.setProperty('rate',120)\n",
    "converter.setProperty('volume',0.4)\n",
    "converter.runAndWait()"
   ]
  }
 ],
 "metadata": {
  "kernelspec": {
   "display_name": "Python 3",
   "language": "python",
   "name": "python3"
  },
  "language_info": {
   "codemirror_mode": {
    "name": "ipython",
    "version": 3
   },
   "file_extension": ".py",
   "mimetype": "text/x-python",
   "name": "python",
   "nbconvert_exporter": "python",
   "pygments_lexer": "ipython3",
   "version": "3.8.8"
  }
 },
 "nbformat": 4,
 "nbformat_minor": 5
}
